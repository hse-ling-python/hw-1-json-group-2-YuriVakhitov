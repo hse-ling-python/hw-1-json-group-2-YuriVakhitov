{
 "cells": [
  {
   "cell_type": "markdown",
   "metadata": {},
   "source": [
    "# Вахитов Юрий 182 ДЗ 1 \n",
    "### При поддержке Папоротского Михаила "
   ]
  },
  {
   "cell_type": "code",
   "execution_count": 2,
   "metadata": {},
   "outputs": [],
   "source": [
    "import json\n",
    "import collections\n",
    "\n",
    "#импортируем все необходимое для работы"
   ]
  },
  {
   "cell_type": "markdown",
   "metadata": {},
   "source": [
    "## Задание 1"
   ]
  },
  {
   "cell_type": "code",
   "execution_count": 3,
   "metadata": {},
   "outputs": [
    {
     "name": "stdout",
     "output_type": "stream",
     "text": [
      "Общее количество твитов: 2556\n"
     ]
    }
   ],
   "source": [
    "twitter = []\n",
    "for line in open('hw_3_twitter.json'):\n",
    "    twitter.append(json.loads(line))\n",
    "# Каждая строчка является твитом, поэтому количество всех твитов можно посчитать через len \n",
    "print('Общее количество твитов: ' + str(len(twitter)))"
   ]
  },
  {
   "cell_type": "markdown",
   "metadata": {},
   "source": [
    "## Задание 2"
   ]
  },
  {
   "cell_type": "code",
   "execution_count": 4,
   "metadata": {},
   "outputs": [
    {
     "name": "stdout",
     "output_type": "stream",
     "text": [
      "Процент удаленных твитов равен 14.162754303599373%\n"
     ]
    }
   ],
   "source": [
    "deleted_tweets = (sum('delete' in t for t in twitter)/len(twitter))*100 \n",
    "print ('Процент удаленных твитов равен ' + str(deleted_tweets) +'%')\n",
    "#Процент удаленных твитов равен сумме твитов с пометкой delete поделенной на количество всех твитов"
   ]
  },
  {
   "cell_type": "markdown",
   "metadata": {},
   "source": [
    "## Задание 3"
   ]
  },
  {
   "cell_type": "code",
   "execution_count": 5,
   "metadata": {},
   "outputs": [
    {
     "name": "stdout",
     "output_type": "stream",
     "text": [
      "10 самых популярных языков твитов:\n",
      "1 - en - 719\n",
      "2 - ja - 438\n",
      "3 - es - 173\n",
      "4 - ko - 149\n",
      "5 - th - 123\n",
      "6 - ar - 119\n",
      "7 - und - 117\n",
      "8 - in - 71\n",
      "9 - pt - 69\n",
      "10 - fr - 35\n"
     ]
    }
   ],
   "source": [
    "languages = []\n",
    "#Создаем пустой список для встречающихся в твитах языков\n",
    "for i in twitter:\n",
    "    if 'lang' in i.keys():\n",
    "        languages.append(i['lang'])\n",
    "#Перебираем твиты через ключ и добавляем каждый встретившийся язык в список\n",
    "l = collections.Counter(languages).most_common()\n",
    "#Сортируем по частотности\n",
    "print ('10 самых популярных языков твитов:')\n",
    "a = 0\n",
    "while a < 10: \n",
    "    print(a+1,'-',l[a][0], '-' ,l[a][1])\n",
    "    a += 1        "
   ]
  },
  {
   "cell_type": "markdown",
   "metadata": {},
   "source": [
    "## Задание 4"
   ]
  },
  {
   "cell_type": "code",
   "execution_count": 6,
   "metadata": {
    "scrolled": true
   },
   "outputs": [
    {
     "name": "stdout",
     "output_type": "stream",
     "text": [
      "Количество пользвователей с 2 или более твитами равно 25\n"
     ]
    }
   ],
   "source": [
    "users = []\n",
    "#Создаем пустой список для всех пользователей\n",
    "active_users = []\n",
    "#А также другой список, в который войдут пользователи с двумя или более твитами\n",
    "for i in twitter:\n",
    "    if 'user' in i:\n",
    "        users.append(i['user']['id'])\n",
    "#Проходимся по пользователям через ключ и добавляем в список всех пользователей\n",
    "f=collections.Counter(users)\n",
    "for i in range(len(f.most_common())):\n",
    "    if f.most_common()[i][1] > 1:\n",
    "        active_users.append(f.most_common()[i][0])\n",
    "#Находим пользователей с двумя или более твитами и считаем их\n",
    "print('Количество пользвователей с 2 или более твитами равно',(len(active_users)))\n"
   ]
  },
  {
   "cell_type": "markdown",
   "metadata": {},
   "source": [
    "## Задание 5"
   ]
  },
  {
   "cell_type": "code",
   "execution_count": 7,
   "metadata": {
    "scrolled": true
   },
   "outputs": [
    {
     "name": "stdout",
     "output_type": "stream",
     "text": [
      "20 самых популярных хештэгов:\n",
      "1 - #BTS - 17\n",
      "2 - #방탄소년단 - 13\n",
      "3 - #AMAs - 11\n",
      "4 - #人気投票ガチャ - 8\n",
      "5 - #태형 - 7\n",
      "6 - #뷔 - 6\n",
      "7 - #BTSinChicago - 5\n",
      "8 - #BTSLoveYourselfTour - 5\n",
      "9 - #오늘의방탄 - 5\n",
      "10 - #PledgeForSwachhBharat - 5\n",
      "11 - #MPN - 5\n",
      "12 - #PCAs - 4\n",
      "13 - #V - 4\n",
      "14 - #시카고1회차공연 - 4\n",
      "15 - #เป๊กผลิตโชค - 4\n",
      "16 - #JIMIN - 4\n",
      "17 - #running - 3\n",
      "18 - #NCT - 3\n",
      "19 - #지민 - 3\n",
      "20 - #WajahmuPlastik - 3\n"
     ]
    }
   ],
   "source": [
    "hashtags = []\n",
    "#создаем пустой список для хэштэгов\n",
    "for i in range(len(twitter)): \n",
    "    if 'entities' in twitter[i]: \n",
    "        if 'hashtags' in twitter[i]['entities']: \n",
    "            for line in twitter[i]['entities']['hashtags']: \n",
    "                hashtags.append(line['text'])\n",
    "#Проходимся через ключ и добавляем значения хэштэгов в список\n",
    "f = collections.Counter(hashtags).most_common()\n",
    "# Сортируем хэштэги\n",
    "print('20 самых популярных хештэгов:')\n",
    "g = 0\n",
    "while g < 20:\n",
    "    print(g+1,'-','#' + f[g][0], '-' ,f[g][1])\n",
    "    g += 1"
   ]
  },
  {
   "cell_type": "markdown",
   "metadata": {},
   "source": [
    "## Задание 7"
   ]
  },
  {
   "cell_type": "code",
   "execution_count": 8,
   "metadata": {},
   "outputs": [
    {
     "name": "stdout",
     "output_type": "stream",
     "text": [
      "1 - Filosofía♕ - 2521403\n",
      "2 - FITNESS Magazine - 1491309\n",
      "3 - malaysiakini.com - 1206759\n",
      "4 - NYT Science - 1137374\n",
      "5 - Gramática - 625463\n",
      "6 - TGRT Haber - 392472\n",
      "7 - The Sun Football ⚽ - 383698\n",
      "8 - Melbourne, Australia - 374222\n",
      "9 - Roznama Express - 318189\n",
      "10 - 💞 ცųཞɠɛཞცơơɠıɛ 💞 - 311319\n"
     ]
    }
   ],
   "source": [
    "#Создаем пустой словарь\n",
    "popular_accounts = {}\n",
    "for i in range(len(twitter)):\n",
    "    if 'user' in twitter[i].keys(): \n",
    "        popular_accounts[twitter[i]['user']['name']] = twitter[i]['user']['followers_count']\n",
    "# в словаре каждому пользователю соотвествует количество его фоловверов \n",
    "x = collections.Counter(popular_accounts).most_common()\n",
    "# Сортируем аккаунты и создаем Топ10 \n",
    "p = 0\n",
    "while p < 10:\n",
    "    print (p+1, '-', x[p][0], '-', x[p][1],)\n",
    "    p += 1"
   ]
  },
  {
   "cell_type": "code",
   "execution_count": null,
   "metadata": {},
   "outputs": [],
   "source": []
  }
 ],
 "metadata": {
  "kernelspec": {
   "display_name": "Python 3",
   "language": "python",
   "name": "python3"
  },
  "language_info": {
   "codemirror_mode": {
    "name": "ipython",
    "version": 3
   },
   "file_extension": ".py",
   "mimetype": "text/x-python",
   "name": "python",
   "nbconvert_exporter": "python",
   "pygments_lexer": "ipython3",
   "version": "3.7.3"
  }
 },
 "nbformat": 4,
 "nbformat_minor": 2
}
